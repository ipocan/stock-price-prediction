{
  "nbformat": 4,
  "nbformat_minor": 0,
  "metadata": {
    "colab": {
      "name": "Stock Price Prediction Using Deep Learning.ipynb",
      "provenance": [],
      "collapsed_sections": [],
      "toc_visible": true
    },
    "kernelspec": {
      "name": "python3",
      "display_name": "Python 3"
    }
  },
  "cells": [
    {
      "cell_type": "markdown",
      "metadata": {
        "id": "6rB1lx-eLE_K"
      },
      "source": [
        "# Introduction\r\n",
        "We are using  Artificial Recurrent Neural Network which as known as Long Short Term Memory (LSTM) to predict the closing stock price of a corporation using the previous 60 day stock price."
      ]
    },
    {
      "cell_type": "markdown",
      "metadata": {
        "id": "4f-xx6c5LrHL"
      },
      "source": [
        "## Importing libraries"
      ]
    },
    {
      "cell_type": "code",
      "metadata": {
        "id": "XLi9xQKlK1CZ"
      },
      "source": [
        "import math\r\n",
        "import pandas_datareader as web\r\n",
        "import numpy as np\r\n",
        "import pandas as pd\r\n",
        "from sklearn.preprocessing import MinMaxScaler\r\n",
        "from keras.models import Sequential\r\n",
        "from keras.layers import Dense, LSTM\r\n",
        "import matplotlib.pyplot as plt\r\n",
        "plt.style.use('fivethirtyeight')"
      ],
      "execution_count": 1,
      "outputs": []
    },
    {
      "cell_type": "markdown",
      "metadata": {
        "id": "E0VXQ-McMVot"
      },
      "source": [
        "## Getting the Stock Price"
      ]
    },
    {
      "cell_type": "code",
      "metadata": {
        "id": "2tO2bFnXMQ5U"
      },
      "source": [
        "df = web.DataReader('AMZN', data_source='yahoo', start='2010-01-01',end='2020-12-10')"
      ],
      "execution_count": 2,
      "outputs": []
    },
    {
      "cell_type": "code",
      "metadata": {
        "id": "4XemZFyS5bIn"
      },
      "source": [
        "# weekly frequency / closing prices\r\n",
        "# df1 = df.asfreq('W-FRI', method='pad')"
      ],
      "execution_count": 3,
      "outputs": []
    },
    {
      "cell_type": "code",
      "metadata": {
        "colab": {
          "base_uri": "https://localhost:8080/",
          "height": 233
        },
        "id": "u6IgvBIJMxJC",
        "outputId": "651b8976-ea96-4cdb-cb75-35cfb5709409"
      },
      "source": [
        "df.head()"
      ],
      "execution_count": 4,
      "outputs": [
        {
          "output_type": "execute_result",
          "data": {
            "text/html": [
              "<div>\n",
              "<style scoped>\n",
              "    .dataframe tbody tr th:only-of-type {\n",
              "        vertical-align: middle;\n",
              "    }\n",
              "\n",
              "    .dataframe tbody tr th {\n",
              "        vertical-align: top;\n",
              "    }\n",
              "\n",
              "    .dataframe thead th {\n",
              "        text-align: right;\n",
              "    }\n",
              "</style>\n",
              "<table border=\"1\" class=\"dataframe\">\n",
              "  <thead>\n",
              "    <tr style=\"text-align: right;\">\n",
              "      <th></th>\n",
              "      <th>High</th>\n",
              "      <th>Low</th>\n",
              "      <th>Open</th>\n",
              "      <th>Close</th>\n",
              "      <th>Volume</th>\n",
              "      <th>Adj Close</th>\n",
              "    </tr>\n",
              "    <tr>\n",
              "      <th>Date</th>\n",
              "      <th></th>\n",
              "      <th></th>\n",
              "      <th></th>\n",
              "      <th></th>\n",
              "      <th></th>\n",
              "      <th></th>\n",
              "    </tr>\n",
              "  </thead>\n",
              "  <tbody>\n",
              "    <tr>\n",
              "      <th>2010-01-04</th>\n",
              "      <td>136.610001</td>\n",
              "      <td>133.139999</td>\n",
              "      <td>136.250000</td>\n",
              "      <td>133.899994</td>\n",
              "      <td>7599900</td>\n",
              "      <td>133.899994</td>\n",
              "    </tr>\n",
              "    <tr>\n",
              "      <th>2010-01-05</th>\n",
              "      <td>135.479996</td>\n",
              "      <td>131.809998</td>\n",
              "      <td>133.429993</td>\n",
              "      <td>134.690002</td>\n",
              "      <td>8851900</td>\n",
              "      <td>134.690002</td>\n",
              "    </tr>\n",
              "    <tr>\n",
              "      <th>2010-01-06</th>\n",
              "      <td>134.729996</td>\n",
              "      <td>131.649994</td>\n",
              "      <td>134.600006</td>\n",
              "      <td>132.250000</td>\n",
              "      <td>7178800</td>\n",
              "      <td>132.250000</td>\n",
              "    </tr>\n",
              "    <tr>\n",
              "      <th>2010-01-07</th>\n",
              "      <td>132.320007</td>\n",
              "      <td>128.800003</td>\n",
              "      <td>132.009995</td>\n",
              "      <td>130.000000</td>\n",
              "      <td>11030200</td>\n",
              "      <td>130.000000</td>\n",
              "    </tr>\n",
              "    <tr>\n",
              "      <th>2010-01-08</th>\n",
              "      <td>133.679993</td>\n",
              "      <td>129.029999</td>\n",
              "      <td>130.559998</td>\n",
              "      <td>133.520004</td>\n",
              "      <td>9830500</td>\n",
              "      <td>133.520004</td>\n",
              "    </tr>\n",
              "  </tbody>\n",
              "</table>\n",
              "</div>"
            ],
            "text/plain": [
              "                  High         Low  ...    Volume   Adj Close\n",
              "Date                                ...                      \n",
              "2010-01-04  136.610001  133.139999  ...   7599900  133.899994\n",
              "2010-01-05  135.479996  131.809998  ...   8851900  134.690002\n",
              "2010-01-06  134.729996  131.649994  ...   7178800  132.250000\n",
              "2010-01-07  132.320007  128.800003  ...  11030200  130.000000\n",
              "2010-01-08  133.679993  129.029999  ...   9830500  133.520004\n",
              "\n",
              "[5 rows x 6 columns]"
            ]
          },
          "metadata": {
            "tags": []
          },
          "execution_count": 4
        }
      ]
    },
    {
      "cell_type": "code",
      "metadata": {
        "colab": {
          "base_uri": "https://localhost:8080/"
        },
        "id": "CIeHebosMzyK",
        "outputId": "a3c1e4ec-e94a-4ff5-d65e-0d2a9389640f"
      },
      "source": [
        "print(f\"Dataframe has {df.shape[0]} rows and, {df.shape[1]} columns.\")"
      ],
      "execution_count": 5,
      "outputs": [
        {
          "output_type": "stream",
          "text": [
            "Dataframe has 2755 rows and, 6 columns.\n"
          ],
          "name": "stdout"
        }
      ]
    },
    {
      "cell_type": "markdown",
      "metadata": {
        "id": "gjA0l1KQNkcc"
      },
      "source": [
        "## Visualisation"
      ]
    },
    {
      "cell_type": "code",
      "metadata": {
        "colab": {
          "base_uri": "https://localhost:8080/",
          "height": 418
        },
        "id": "wyU5Cln0NTGi",
        "outputId": "4f4b3427-f94f-413d-fff4-293131cc7a26"
      },
      "source": [
        "plt.figure(figsize=(16,8))\r\n",
        "plt.title('Close Price History',fontsize = 18)\r\n",
        "plt.plot(df['Close'])\r\n",
        "plt.xlabel('Date',fontsize=14)\r\n",
        "plt.ylabel('Close Price USD ($)', fontsize = 14)\r\n",
        "plt.show()"
      ],
      "execution_count": 6,
      "outputs": [
        {
          "output_type": "display_data",
          "data": {
            "image/png": "[encoded data removed]",
            "text/plain": [
              "<Figure size 1152x576 with 1 Axes>"
            ]
          },
          "metadata": {
            "tags": [],
            "needs_background": "light"
          }
        }
      ]
    },
    {
      "cell_type": "code",
      "metadata": {
        "colab": {
          "base_uri": "https://localhost:8080/"
        },
        "id": "t7IUcLcXOVej",
        "outputId": "77b75926-4947-4a9f-dff2-b32094aea226"
      },
      "source": [
        "# Close price dataframe\r\n",
        "df_close = df.filter(['Close'])\r\n",
        "\r\n",
        "# Converting dataframe to a numpy array\r\n",
        "data = df_close.values\r\n",
        "\r\n",
        "# Number of rows to train the model on\r\n",
        "training_data_len = math.ceil(len(data)*.8)\r\n",
        "\r\n",
        "training_data_len\r\n",
        "\r\n"
      ],
      "execution_count": 7,
      "outputs": [
        {
          "output_type": "execute_result",
          "data": {
            "text/plain": [
              "2204"
            ]
          },
          "metadata": {
            "tags": []
          },
          "execution_count": 7
        }
      ]
    },
    {
      "cell_type": "markdown",
      "metadata": {
        "id": "FkxCEAlvP033"
      },
      "source": [
        "## Data Pre-processing"
      ]
    },
    {
      "cell_type": "code",
      "metadata": {
        "colab": {
          "base_uri": "https://localhost:8080/"
        },
        "id": "y77aKvsQPTfi",
        "outputId": "558652ac-6fc2-4cea-b9d1-b7ea2f712928"
      },
      "source": [
        "scaler = MinMaxScaler(feature_range=(0,1))\r\n",
        "scaled_data = scaler.fit_transform(data)\r\n",
        "\r\n",
        "scaled_data"
      ],
      "execution_count": 8,
      "outputs": [
        {
          "output_type": "execute_result",
          "data": {
            "text/plain": [
              "array([[0.0073886 ],\n",
              "       [0.0076194 ],\n",
              "       [0.00690655],\n",
              "       ...,\n",
              "       [0.89653039],\n",
              "       [0.87517675],\n",
              "       [0.87438502]])"
            ]
          },
          "metadata": {
            "tags": []
          },
          "execution_count": 8
        }
      ]
    },
    {
      "cell_type": "code",
      "metadata": {
        "colab": {
          "base_uri": "https://localhost:8080/"
        },
        "id": "tSSIm4xkQgxk",
        "outputId": "86837b9d-ecd4-4960-d46e-2f9803e51bfd"
      },
      "source": [
        "# Create the scaled training dataset\r\n",
        "train_data = scaled_data[0:training_data_len , :]\r\n",
        "\r\n",
        "# Split the data into X_train, y_train datasets\r\n",
        "\r\n",
        "x_train = []\r\n",
        "y_train = []\r\n",
        "\r\n",
        "for i in range(60, len(train_data)):\r\n",
        "  x_train.append(train_data[i-60:i, 0])\r\n",
        "  y_train.append(train_data[i, 0])\r\n",
        "  if i <=61:\r\n",
        "    print(x_train)\r\n",
        "    print(y_train)\r\n",
        "    print()"
      ],
      "execution_count": 9,
      "outputs": [
        {
          "output_type": "stream",
          "text": [
            "[array([0.0073886 , 0.0076194 , 0.00690655, 0.0062492 , 0.00727758,\n",
            "       0.00633976, 0.00547499, 0.00598918, 0.00547499, 0.00541363,\n",
            "       0.00555095, 0.0050163 , 0.00526171, 0.00374543, 0.00341821,\n",
            "       0.00317573, 0.00413107, 0.00508934, 0.00490821, 0.00299751,\n",
            "       0.0027784 , 0.00306471, 0.0021415 , 0.00256512, 0.00240151,\n",
            "       0.0027521 , 0.00255636, 0.00335394, 0.00322831, 0.00260602,\n",
            "       0.00224959, 0.00276671, 0.0026031 , 0.00274626, 0.0025213 ,\n",
            "       0.00324584, 0.00280177, 0.0028602 , 0.00465403, 0.00494326,\n",
            "       0.00504844, 0.00581973, 0.00593075, 0.00628133, 0.00590446,\n",
            "       0.00639819, 0.00729511, 0.00678092, 0.00657933, 0.00677215,\n",
            "       0.00664068, 0.00705554, 0.00635145, 0.00638651, 0.006033  ,\n",
            "       0.00567657, 0.00763109, 0.0077275 , 0.00774503, 0.00817158])]\n",
            "[0.00793493241121418]\n",
            "\n",
            "[array([0.0073886 , 0.0076194 , 0.00690655, 0.0062492 , 0.00727758,\n",
            "       0.00633976, 0.00547499, 0.00598918, 0.00547499, 0.00541363,\n",
            "       0.00555095, 0.0050163 , 0.00526171, 0.00374543, 0.00341821,\n",
            "       0.00317573, 0.00413107, 0.00508934, 0.00490821, 0.00299751,\n",
            "       0.0027784 , 0.00306471, 0.0021415 , 0.00256512, 0.00240151,\n",
            "       0.0027521 , 0.00255636, 0.00335394, 0.00322831, 0.00260602,\n",
            "       0.00224959, 0.00276671, 0.0026031 , 0.00274626, 0.0025213 ,\n",
            "       0.00324584, 0.00280177, 0.0028602 , 0.00465403, 0.00494326,\n",
            "       0.00504844, 0.00581973, 0.00593075, 0.00628133, 0.00590446,\n",
            "       0.00639819, 0.00729511, 0.00678092, 0.00657933, 0.00677215,\n",
            "       0.00664068, 0.00705554, 0.00635145, 0.00638651, 0.006033  ,\n",
            "       0.00567657, 0.00763109, 0.0077275 , 0.00774503, 0.00817158]), array([0.0076194 , 0.00690655, 0.0062492 , 0.00727758, 0.00633976,\n",
            "       0.00547499, 0.00598918, 0.00547499, 0.00541363, 0.00555095,\n",
            "       0.0050163 , 0.00526171, 0.00374543, 0.00341821, 0.00317573,\n",
            "       0.00413107, 0.00508934, 0.00490821, 0.00299751, 0.0027784 ,\n",
            "       0.00306471, 0.0021415 , 0.00256512, 0.00240151, 0.0027521 ,\n",
            "       0.00255636, 0.00335394, 0.00322831, 0.00260602, 0.00224959,\n",
            "       0.00276671, 0.0026031 , 0.00274626, 0.0025213 , 0.00324584,\n",
            "       0.00280177, 0.0028602 , 0.00465403, 0.00494326, 0.00504844,\n",
            "       0.00581973, 0.00593075, 0.00628133, 0.00590446, 0.00639819,\n",
            "       0.00729511, 0.00678092, 0.00657933, 0.00677215, 0.00664068,\n",
            "       0.00705554, 0.00635145, 0.00638651, 0.006033  , 0.00567657,\n",
            "       0.00763109, 0.0077275 , 0.00774503, 0.00817158, 0.00793493])]\n",
            "[0.00793493241121418, 0.006777996424996789]\n",
            "\n"
          ],
          "name": "stdout"
        }
      ]
    },
    {
      "cell_type": "code",
      "metadata": {
        "id": "Qr2QgPJnSPhC"
      },
      "source": [
        "# Convert the x_train and y_train to numpy arrays\r\n",
        "x_train, y_train = np.array(x_train), np.array(y_train)"
      ],
      "execution_count": 10,
      "outputs": []
    },
    {
      "cell_type": "code",
      "metadata": {
        "colab": {
          "base_uri": "https://localhost:8080/"
        },
        "id": "Zr2fmgtaTAc7",
        "outputId": "7a9aa48f-4171-44c6-c6eb-da1e67cc36d2"
      },
      "source": [
        "# Reshape the data to make 3 dim for LSTM model\r\n",
        "x_train.shape"
      ],
      "execution_count": 11,
      "outputs": [
        {
          "output_type": "execute_result",
          "data": {
            "text/plain": [
              "(2144, 60)"
            ]
          },
          "metadata": {
            "tags": []
          },
          "execution_count": 11
        }
      ]
    },
    {
      "cell_type": "code",
      "metadata": {
        "colab": {
          "base_uri": "https://localhost:8080/"
        },
        "id": "nHHiyo4bTJHx",
        "outputId": "aff58da9-1a58-4ef6-a004-a492821105f4"
      },
      "source": [
        "x_train = np.reshape(x_train, (x_train.shape[0], x_train.shape[1], 1))\r\n",
        "x_train.shape"
      ],
      "execution_count": 12,
      "outputs": [
        {
          "output_type": "execute_result",
          "data": {
            "text/plain": [
              "(2144, 60, 1)"
            ]
          },
          "metadata": {
            "tags": []
          },
          "execution_count": 12
        }
      ]
    },
    {
      "cell_type": "markdown",
      "metadata": {
        "id": "pXrmQHN_6El2"
      },
      "source": [
        "## Building Model"
      ]
    },
    {
      "cell_type": "code",
      "metadata": {
        "id": "cRW63AbmTbTK"
      },
      "source": [
        "# Build the LSTM model\r\n",
        "\r\n",
        "model = Sequential()\r\n",
        "model.add(LSTM(50, return_sequences=True, input_shape = (x_train.shape[1], 1),))\r\n",
        "model.add(LSTM(50, return_sequences=False))\r\n",
        "model.add(Dense(25))\r\n",
        "model.add(Dense(1))"
      ],
      "execution_count": 13,
      "outputs": []
    },
    {
      "cell_type": "code",
      "metadata": {
        "id": "iMVoMCsmYdPT"
      },
      "source": [
        "# Compile the model\r\n",
        "model.compile(optimizer='adam', loss='mean_squared_error')"
      ],
      "execution_count": 14,
      "outputs": []
    },
    {
      "cell_type": "code",
      "metadata": {
        "colab": {
          "base_uri": "https://localhost:8080/"
        },
        "id": "q-yyG_98Ym0s",
        "outputId": "2d38af32-6ce6-42c1-dcf5-1dfb83b0f506"
      },
      "source": [
        "# Train the model\r\n",
        "model.fit(x_train, y_train,batch_size = 1, epochs = 1)"
      ],
      "execution_count": 15,
      "outputs": [
        {
          "output_type": "stream",
          "text": [
            "2144/2144 [==============================] - 44s 21ms/step - loss: 4.4918e-04\n"
          ],
          "name": "stdout"
        },
        {
          "output_type": "execute_result",
          "data": {
            "text/plain": [
              "<tensorflow.python.keras.callbacks.History at 0x7f0359c587f0>"
            ]
          },
          "metadata": {
            "tags": []
          },
          "execution_count": 15
        }
      ]
    },
    {
      "cell_type": "code",
      "metadata": {
        "id": "Q--aA1WlZBWK"
      },
      "source": [
        "# Create the testing data set\r\n",
        "# Create a new array containing scaled values from 1543 to 2003\r\n",
        "\r\n",
        "test_data = scaled_data[training_data_len-60: ,  :]\r\n",
        "\r\n",
        "# Create the datasets x_test and y_test\r\n",
        "\r\n",
        "x_test = []\r\n",
        "y_test = data[training_data_len: , : ]\r\n",
        "\r\n",
        "for i in range(60, len(test_data)):\r\n",
        "  x_test.append(test_data[i-60:i, 0])\r\n"
      ],
      "execution_count": 16,
      "outputs": []
    },
    {
      "cell_type": "code",
      "metadata": {
        "id": "a8httMhBaiRr"
      },
      "source": [
        "# Convert the data to a numpy array\r\n",
        "x_test = np.array(x_test)"
      ],
      "execution_count": 17,
      "outputs": []
    },
    {
      "cell_type": "code",
      "metadata": {
        "id": "9XtgwIjJa8Ya"
      },
      "source": [
        "# Reshaping the test data for LSTM model\r\n",
        "x_test = np.reshape(x_test, (x_test.shape[0], x_test.shape[1], 1))"
      ],
      "execution_count": 18,
      "outputs": []
    },
    {
      "cell_type": "code",
      "metadata": {
        "id": "KCvbH2-FcrAy"
      },
      "source": [
        "# Predicted prices\r\n",
        "predictions = model.predict(x_test)\r\n",
        "predictions = scaler.inverse_transform(predictions)"
      ],
      "execution_count": 19,
      "outputs": []
    },
    {
      "cell_type": "markdown",
      "metadata": {
        "id": "tpLSplebdMBR"
      },
      "source": [
        "## Model Evaluation"
      ]
    },
    {
      "cell_type": "code",
      "metadata": {
        "colab": {
          "base_uri": "https://localhost:8080/"
        },
        "id": "4hzOG0DgdFbR",
        "outputId": "42a51b1a-7962-4777-c2cb-b87aa37d47d8"
      },
      "source": [
        "# root mean squared error (RMSE)\r\n",
        "rmse =np.sqrt(np.mean(((predictions- y_test)**2)))\r\n",
        "rmse"
      ],
      "execution_count": 20,
      "outputs": [
        {
          "output_type": "execute_result",
          "data": {
            "text/plain": [
              "116.17675117597537"
            ]
          },
          "metadata": {
            "tags": []
          },
          "execution_count": 20
        }
      ]
    },
    {
      "cell_type": "code",
      "metadata": {
        "colab": {
          "base_uri": "https://localhost:8080/"
        },
        "id": "UN5iFxwZdbsp",
        "outputId": "42eafaec-b1a0-4022-c654-436f07c77c28"
      },
      "source": [
        "train = df[:training_data_len]\r\n",
        "valid = df[training_data_len : ]\r\n",
        "valid['Predictions'] = predictions"
      ],
      "execution_count": 21,
      "outputs": [
        {
          "output_type": "stream",
          "text": [
            "/usr/local/lib/python3.6/dist-packages/ipykernel_launcher.py:3: SettingWithCopyWarning: \n",
            "A value is trying to be set on a copy of a slice from a DataFrame.\n",
            "Try using .loc[row_indexer,col_indexer] = value instead\n",
            "\n",
            "See the caveats in the documentation: https://pandas.pydata.org/pandas-docs/stable/user_guide/indexing.html#returning-a-view-versus-a-copy\n",
            "  This is separate from the ipykernel package so we can avoid doing imports until\n"
          ],
          "name": "stderr"
        }
      ]
    },
    {
      "cell_type": "code",
      "metadata": {
        "colab": {
          "base_uri": "https://localhost:8080/",
          "height": 233
        },
        "id": "osmn45QVgIeV",
        "outputId": "d7b6376b-66ab-4938-f5e1-4155b3f4e775"
      },
      "source": [
        "train.head()"
      ],
      "execution_count": 22,
      "outputs": [
        {
          "output_type": "execute_result",
          "data": {
            "text/html": [
              "<div>\n",
              "<style scoped>\n",
              "    .dataframe tbody tr th:only-of-type {\n",
              "        vertical-align: middle;\n",
              "    }\n",
              "\n",
              "    .dataframe tbody tr th {\n",
              "        vertical-align: top;\n",
              "    }\n",
              "\n",
              "    .dataframe thead th {\n",
              "        text-align: right;\n",
              "    }\n",
              "</style>\n",
              "<table border=\"1\" class=\"dataframe\">\n",
              "  <thead>\n",
              "    <tr style=\"text-align: right;\">\n",
              "      <th></th>\n",
              "      <th>High</th>\n",
              "      <th>Low</th>\n",
              "      <th>Open</th>\n",
              "      <th>Close</th>\n",
              "      <th>Volume</th>\n",
              "      <th>Adj Close</th>\n",
              "    </tr>\n",
              "    <tr>\n",
              "      <th>Date</th>\n",
              "      <th></th>\n",
              "      <th></th>\n",
              "      <th></th>\n",
              "      <th></th>\n",
              "      <th></th>\n",
              "      <th></th>\n",
              "    </tr>\n",
              "  </thead>\n",
              "  <tbody>\n",
              "    <tr>\n",
              "      <th>2010-01-04</th>\n",
              "      <td>136.610001</td>\n",
              "      <td>133.139999</td>\n",
              "      <td>136.250000</td>\n",
              "      <td>133.899994</td>\n",
              "      <td>7599900</td>\n",
              "      <td>133.899994</td>\n",
              "    </tr>\n",
              "    <tr>\n",
              "      <th>2010-01-05</th>\n",
              "      <td>135.479996</td>\n",
              "      <td>131.809998</td>\n",
              "      <td>133.429993</td>\n",
              "      <td>134.690002</td>\n",
              "      <td>8851900</td>\n",
              "      <td>134.690002</td>\n",
              "    </tr>\n",
              "    <tr>\n",
              "      <th>2010-01-06</th>\n",
              "      <td>134.729996</td>\n",
              "      <td>131.649994</td>\n",
              "      <td>134.600006</td>\n",
              "      <td>132.250000</td>\n",
              "      <td>7178800</td>\n",
              "      <td>132.250000</td>\n",
              "    </tr>\n",
              "    <tr>\n",
              "      <th>2010-01-07</th>\n",
              "      <td>132.320007</td>\n",
              "      <td>128.800003</td>\n",
              "      <td>132.009995</td>\n",
              "      <td>130.000000</td>\n",
              "      <td>11030200</td>\n",
              "      <td>130.000000</td>\n",
              "    </tr>\n",
              "    <tr>\n",
              "      <th>2010-01-08</th>\n",
              "      <td>133.679993</td>\n",
              "      <td>129.029999</td>\n",
              "      <td>130.559998</td>\n",
              "      <td>133.520004</td>\n",
              "      <td>9830500</td>\n",
              "      <td>133.520004</td>\n",
              "    </tr>\n",
              "  </tbody>\n",
              "</table>\n",
              "</div>"
            ],
            "text/plain": [
              "                  High         Low  ...    Volume   Adj Close\n",
              "Date                                ...                      \n",
              "2010-01-04  136.610001  133.139999  ...   7599900  133.899994\n",
              "2010-01-05  135.479996  131.809998  ...   8851900  134.690002\n",
              "2010-01-06  134.729996  131.649994  ...   7178800  132.250000\n",
              "2010-01-07  132.320007  128.800003  ...  11030200  130.000000\n",
              "2010-01-08  133.679993  129.029999  ...   9830500  133.520004\n",
              "\n",
              "[5 rows x 6 columns]"
            ]
          },
          "metadata": {
            "tags": []
          },
          "execution_count": 22
        }
      ]
    },
    {
      "cell_type": "code",
      "metadata": {
        "colab": {
          "base_uri": "https://localhost:8080/",
          "height": 233
        },
        "id": "LLxa5GVKgK6C",
        "outputId": "80a49889-37f5-4d91-f94f-0bbb6c14f181"
      },
      "source": [
        "valid.head()"
      ],
      "execution_count": 23,
      "outputs": [
        {
          "output_type": "execute_result",
          "data": {
            "text/html": [
              "<div>\n",
              "<style scoped>\n",
              "    .dataframe tbody tr th:only-of-type {\n",
              "        vertical-align: middle;\n",
              "    }\n",
              "\n",
              "    .dataframe tbody tr th {\n",
              "        vertical-align: top;\n",
              "    }\n",
              "\n",
              "    .dataframe thead th {\n",
              "        text-align: right;\n",
              "    }\n",
              "</style>\n",
              "<table border=\"1\" class=\"dataframe\">\n",
              "  <thead>\n",
              "    <tr style=\"text-align: right;\">\n",
              "      <th></th>\n",
              "      <th>High</th>\n",
              "      <th>Low</th>\n",
              "      <th>Open</th>\n",
              "      <th>Close</th>\n",
              "      <th>Volume</th>\n",
              "      <th>Adj Close</th>\n",
              "      <th>Predictions</th>\n",
              "    </tr>\n",
              "    <tr>\n",
              "      <th>Date</th>\n",
              "      <th></th>\n",
              "      <th></th>\n",
              "      <th></th>\n",
              "      <th></th>\n",
              "      <th></th>\n",
              "      <th></th>\n",
              "      <th></th>\n",
              "    </tr>\n",
              "  </thead>\n",
              "  <tbody>\n",
              "    <tr>\n",
              "      <th>2018-10-04</th>\n",
              "      <td>1956.000000</td>\n",
              "      <td>1896.569946</td>\n",
              "      <td>1949.000000</td>\n",
              "      <td>1909.420044</td>\n",
              "      <td>7257000</td>\n",
              "      <td>1909.420044</td>\n",
              "      <td>1934.553101</td>\n",
              "    </tr>\n",
              "    <tr>\n",
              "      <th>2018-10-05</th>\n",
              "      <td>1929.079956</td>\n",
              "      <td>1862.829956</td>\n",
              "      <td>1917.989990</td>\n",
              "      <td>1889.650024</td>\n",
              "      <td>6822300</td>\n",
              "      <td>1889.650024</td>\n",
              "      <td>1932.486816</td>\n",
              "    </tr>\n",
              "    <tr>\n",
              "      <th>2018-10-08</th>\n",
              "      <td>1902.000000</td>\n",
              "      <td>1830.660034</td>\n",
              "      <td>1874.000000</td>\n",
              "      <td>1864.420044</td>\n",
              "      <td>7393200</td>\n",
              "      <td>1864.420044</td>\n",
              "      <td>1926.715820</td>\n",
              "    </tr>\n",
              "    <tr>\n",
              "      <th>2018-10-09</th>\n",
              "      <td>1896.680054</td>\n",
              "      <td>1852.319946</td>\n",
              "      <td>1859.989990</td>\n",
              "      <td>1870.319946</td>\n",
              "      <td>4772900</td>\n",
              "      <td>1870.319946</td>\n",
              "      <td>1917.416504</td>\n",
              "    </tr>\n",
              "    <tr>\n",
              "      <th>2018-10-10</th>\n",
              "      <td>1858.560059</td>\n",
              "      <td>1754.410034</td>\n",
              "      <td>1857.890015</td>\n",
              "      <td>1755.250000</td>\n",
              "      <td>10988900</td>\n",
              "      <td>1755.250000</td>\n",
              "      <td>1906.654175</td>\n",
              "    </tr>\n",
              "  </tbody>\n",
              "</table>\n",
              "</div>"
            ],
            "text/plain": [
              "                   High          Low  ...    Adj Close  Predictions\n",
              "Date                                  ...                          \n",
              "2018-10-04  1956.000000  1896.569946  ...  1909.420044  1934.553101\n",
              "2018-10-05  1929.079956  1862.829956  ...  1889.650024  1932.486816\n",
              "2018-10-08  1902.000000  1830.660034  ...  1864.420044  1926.715820\n",
              "2018-10-09  1896.680054  1852.319946  ...  1870.319946  1917.416504\n",
              "2018-10-10  1858.560059  1754.410034  ...  1755.250000  1906.654175\n",
              "\n",
              "[5 rows x 7 columns]"
            ]
          },
          "metadata": {
            "tags": []
          },
          "execution_count": 23
        }
      ]
    },
    {
      "cell_type": "code",
      "metadata": {
        "colab": {
          "base_uri": "https://localhost:8080/",
          "height": 417
        },
        "id": "knnoL2YMerD6",
        "outputId": "36b97d9d-4b80-4c7b-8c6d-dcd22c63ce5f"
      },
      "source": [
        "# Visualise the data\r\n",
        "plt.figure(figsize=(16,8))\r\n",
        "plt.title('Model')\r\n",
        "plt.xlabel('Date', fontsize=18)\r\n",
        "plt.ylabel('Close Price USD ($)',fontsize=18)\r\n",
        "plt.plot(train['Close'])\r\n",
        "plt.plot(valid[['Close','Predictions']])\r\n",
        "plt.legend(['Train','Validation','Predictions'], loc = 'lower right')\r\n",
        "plt.show()\r\n"
      ],
      "execution_count": 24,
      "outputs": [
        {
          "output_type": "display_data",
          "data": {
            "image/png": "[encoded data removed]",
            "text/plain": [
              "<Figure size 1152x576 with 1 Axes>"
            ]
          },
          "metadata": {
            "tags": [],
            "needs_background": "light"
          }
        }
      ]
    },
    {
      "cell_type": "code",
      "metadata": {
        "colab": {
          "base_uri": "https://localhost:8080/"
        },
        "id": "HVk8gxa1mtlS",
        "outputId": "a5cb8ac9-0197-45c3-9eb4-9a5ed27a53b6"
      },
      "source": [
        "valid['error'] = valid['Predictions'] - valid['Close']"
      ],
      "execution_count": 25,
      "outputs": [
        {
          "output_type": "stream",
          "text": [
            "/usr/local/lib/python3.6/dist-packages/ipykernel_launcher.py:1: SettingWithCopyWarning: \n",
            "A value is trying to be set on a copy of a slice from a DataFrame.\n",
            "Try using .loc[row_indexer,col_indexer] = value instead\n",
            "\n",
            "See the caveats in the documentation: https://pandas.pydata.org/pandas-docs/stable/user_guide/indexing.html#returning-a-view-versus-a-copy\n",
            "  \"\"\"Entry point for launching an IPython kernel.\n"
          ],
          "name": "stderr"
        }
      ]
    },
    {
      "cell_type": "code",
      "metadata": {
        "colab": {
          "base_uri": "https://localhost:8080/"
        },
        "id": "Sk28l0WmnEAO",
        "outputId": "5ba584ba-715d-411f-eeb5-27e483a7ce13"
      },
      "source": [
        "valid['error'].mean()"
      ],
      "execution_count": 26,
      "outputs": [
        {
          "output_type": "execute_result",
          "data": {
            "text/plain": [
              "-63.99497030434721"
            ]
          },
          "metadata": {
            "tags": []
          },
          "execution_count": 26
        }
      ]
    },
    {
      "cell_type": "code",
      "metadata": {
        "colab": {
          "base_uri": "https://localhost:8080/",
          "height": 446
        },
        "id": "nYTrkvupe_xZ",
        "outputId": "6083e8ae-8f49-4839-ba97-80d878dd729e"
      },
      "source": [
        "# Show the valid, predicted prices and error\r\n",
        "valid[['Close','Predictions']]"
      ],
      "execution_count": 27,
      "outputs": [
        {
          "output_type": "execute_result",
          "data": {
            "text/html": [
              "<div>\n",
              "<style scoped>\n",
              "    .dataframe tbody tr th:only-of-type {\n",
              "        vertical-align: middle;\n",
              "    }\n",
              "\n",
              "    .dataframe tbody tr th {\n",
              "        vertical-align: top;\n",
              "    }\n",
              "\n",
              "    .dataframe thead th {\n",
              "        text-align: right;\n",
              "    }\n",
              "</style>\n",
              "<table border=\"1\" class=\"dataframe\">\n",
              "  <thead>\n",
              "    <tr style=\"text-align: right;\">\n",
              "      <th></th>\n",
              "      <th>Close</th>\n",
              "      <th>Predictions</th>\n",
              "    </tr>\n",
              "    <tr>\n",
              "      <th>Date</th>\n",
              "      <th></th>\n",
              "      <th></th>\n",
              "    </tr>\n",
              "  </thead>\n",
              "  <tbody>\n",
              "    <tr>\n",
              "      <th>2018-10-04</th>\n",
              "      <td>1909.420044</td>\n",
              "      <td>1934.553101</td>\n",
              "    </tr>\n",
              "    <tr>\n",
              "      <th>2018-10-05</th>\n",
              "      <td>1889.650024</td>\n",
              "      <td>1932.486816</td>\n",
              "    </tr>\n",
              "    <tr>\n",
              "      <th>2018-10-08</th>\n",
              "      <td>1864.420044</td>\n",
              "      <td>1926.715820</td>\n",
              "    </tr>\n",
              "    <tr>\n",
              "      <th>2018-10-09</th>\n",
              "      <td>1870.319946</td>\n",
              "      <td>1917.416504</td>\n",
              "    </tr>\n",
              "    <tr>\n",
              "      <th>2018-10-10</th>\n",
              "      <td>1755.250000</td>\n",
              "      <td>1906.654175</td>\n",
              "    </tr>\n",
              "    <tr>\n",
              "      <th>...</th>\n",
              "      <td>...</td>\n",
              "      <td>...</td>\n",
              "    </tr>\n",
              "    <tr>\n",
              "      <th>2020-12-04</th>\n",
              "      <td>3162.580078</td>\n",
              "      <td>3053.561768</td>\n",
              "    </tr>\n",
              "    <tr>\n",
              "      <th>2020-12-07</th>\n",
              "      <td>3158.000000</td>\n",
              "      <td>3058.152588</td>\n",
              "    </tr>\n",
              "    <tr>\n",
              "      <th>2020-12-08</th>\n",
              "      <td>3177.290039</td>\n",
              "      <td>3060.716309</td>\n",
              "    </tr>\n",
              "    <tr>\n",
              "      <th>2020-12-09</th>\n",
              "      <td>3104.199951</td>\n",
              "      <td>3062.826416</td>\n",
              "    </tr>\n",
              "    <tr>\n",
              "      <th>2020-12-10</th>\n",
              "      <td>3101.489990</td>\n",
              "      <td>3060.582275</td>\n",
              "    </tr>\n",
              "  </tbody>\n",
              "</table>\n",
              "<p>551 rows × 2 columns</p>\n",
              "</div>"
            ],
            "text/plain": [
              "                  Close  Predictions\n",
              "Date                                \n",
              "2018-10-04  1909.420044  1934.553101\n",
              "2018-10-05  1889.650024  1932.486816\n",
              "2018-10-08  1864.420044  1926.715820\n",
              "2018-10-09  1870.319946  1917.416504\n",
              "2018-10-10  1755.250000  1906.654175\n",
              "...                 ...          ...\n",
              "2020-12-04  3162.580078  3053.561768\n",
              "2020-12-07  3158.000000  3058.152588\n",
              "2020-12-08  3177.290039  3060.716309\n",
              "2020-12-09  3104.199951  3062.826416\n",
              "2020-12-10  3101.489990  3060.582275\n",
              "\n",
              "[551 rows x 2 columns]"
            ]
          },
          "metadata": {
            "tags": []
          },
          "execution_count": 27
        }
      ]
    },
    {
      "cell_type": "markdown",
      "metadata": {
        "id": "f2taqOqAjmlU"
      },
      "source": [
        "# Make a single prediction"
      ]
    },
    {
      "cell_type": "markdown",
      "metadata": {
        "id": "H0bqO2FEE5_S"
      },
      "source": [
        "## Amazon"
      ]
    },
    {
      "cell_type": "code",
      "metadata": {
        "colab": {
          "base_uri": "https://localhost:8080/"
        },
        "id": "1g0RsTuPiBF4",
        "outputId": "c0673096-c854-47bf-83b3-ae257db845a6"
      },
      "source": [
        "# Get the quote\r\n",
        "amazon_quote = web.DataReader('AMZN', data_source='yahoo', start='2010-01-01',end='2020-12-09')\r\n",
        "\r\n",
        "# Create a new dataframe\r\n",
        "new_df = amazon_quote.filter(['Close'])\r\n",
        "\r\n",
        "# Get the last 60 days closing price values and convert the dataframe to an array\r\n",
        "last_60_days = new_df[-60:].values\r\n",
        "\r\n",
        "# Scale the data to be values between 0 and 1\r\n",
        "last_60_days_scaled = scaler.transform(last_60_days)\r\n",
        "\r\n",
        "# Create an empty list\r\n",
        "X_test = []\r\n",
        "\r\n",
        "# Append the last 60 days\r\n",
        "X_test.append(last_60_days_scaled)\r\n",
        "\r\n",
        "# Convert the X_test to a numpy array\r\n",
        "X_test = np.array(X_test)\r\n",
        "\r\n",
        "# Reshape the data\r\n",
        "X_test = np.reshape(X_test, (X_test.shape[0], X_test.shape[1], 1))\r\n",
        "\r\n",
        "# Get the predicted scaled price\r\n",
        "pred_price = model.predict(X_test)\r\n",
        "\r\n",
        "#Undo the scaling\r\n",
        "pred_price = scaler.inverse_transform(pred_price)\r\n",
        "\r\n",
        "print(pred_price)"
      ],
      "execution_count": 28,
      "outputs": [
        {
          "output_type": "stream",
          "text": [
            "[[3060.5825]]\n"
          ],
          "name": "stdout"
        }
      ]
    },
    {
      "cell_type": "code",
      "metadata": {
        "colab": {
          "base_uri": "https://localhost:8080/"
        },
        "id": "da0z9CL3leGb",
        "outputId": "15f74f8b-6070-4ade-d437-324eb2b0b447"
      },
      "source": [
        "# Get the quote\r\n",
        "amazon_quote2 = web.DataReader('AMZN', data_source='yahoo', start='2020-12-10',end='2020-12-10')\r\n",
        "print(amazon_quote2['Close'])"
      ],
      "execution_count": 29,
      "outputs": [
        {
          "output_type": "stream",
          "text": [
            "Date\n",
            "2020-12-10    3101.48999\n",
            "2020-12-10    3101.48999\n",
            "Name: Close, dtype: float64\n"
          ],
          "name": "stdout"
        }
      ]
    },
    {
      "cell_type": "markdown",
      "metadata": {
        "id": "7FrzDv8cFQfg"
      },
      "source": [
        "## Facebook"
      ]
    },
    {
      "cell_type": "code",
      "metadata": {
        "colab": {
          "base_uri": "https://localhost:8080/"
        },
        "id": "-bUzwCZHvCC4",
        "outputId": "d841658e-b216-4783-de1b-02573ee4ee67"
      },
      "source": [
        "# Get the quote\r\n",
        "facebook_quote = web.DataReader('FB', data_source='yahoo', start='2010-01-01',end='2020-12-08')\r\n",
        "\r\n",
        "# Create a new dataframe\r\n",
        "fb_df = facebook_quote.filter(['Close'])\r\n",
        "\r\n",
        "# Get the last 60 days closing price values and convert the dataframe to an array\r\n",
        "last_60_days = fb_df[-60:].values\r\n",
        "\r\n",
        "# Scale the data to be values between 0 and 1\r\n",
        "last_60_days_scaled = scaler.transform(last_60_days)\r\n",
        "\r\n",
        "# Create an empty list\r\n",
        "X_test = []\r\n",
        "\r\n",
        "# Append the last 60 days\r\n",
        "X_test.append(last_60_days_scaled)\r\n",
        "\r\n",
        "# Convert the X_test to a numpy array\r\n",
        "X_test = np.array(X_test)\r\n",
        "\r\n",
        "# Reshape the data\r\n",
        "X_test = np.reshape(X_test, (X_test.shape[0], X_test.shape[1], 1))\r\n",
        "\r\n",
        "# Get the predicted scaled price\r\n",
        "pred_price = model.predict(X_test)\r\n",
        "\r\n",
        "#Undo the scaling\r\n",
        "pred_price = scaler.inverse_transform(pred_price)\r\n",
        "\r\n",
        "print(pred_price)"
      ],
      "execution_count": 30,
      "outputs": [
        {
          "output_type": "stream",
          "text": [
            "[[266.6405]]\n"
          ],
          "name": "stdout"
        }
      ]
    },
    {
      "cell_type": "code",
      "metadata": {
        "colab": {
          "base_uri": "https://localhost:8080/"
        },
        "id": "SmCzTDGoFowN",
        "outputId": "56aae388-ad74-4ef4-cd72-926d81d5cd48"
      },
      "source": [
        "# Get the quote\r\n",
        "facebook_quote2 = web.DataReader('FB', data_source='yahoo', start='2020-12-09',end='2020-12-09')\r\n",
        "print(facebook_quote2['Close'])"
      ],
      "execution_count": 31,
      "outputs": [
        {
          "output_type": "stream",
          "text": [
            "Date\n",
            "2020-12-09    277.920013\n",
            "Name: Close, dtype: float64\n"
          ],
          "name": "stdout"
        }
      ]
    },
    {
      "cell_type": "markdown",
      "metadata": {
        "id": "a3ihFPSpGhYC"
      },
      "source": [
        "## Pfizer"
      ]
    },
    {
      "cell_type": "code",
      "metadata": {
        "colab": {
          "base_uri": "https://localhost:8080/"
        },
        "id": "fltVCFo3F7ey",
        "outputId": "dafcf2ce-2b54-4354-adad-0570b50dc8db"
      },
      "source": [
        "# Get the quote\r\n",
        "pfizer_quote = web.DataReader('PFE', data_source='yahoo', start='2010-01-01',end='2020-12-08')\r\n",
        "\r\n",
        "# Create a new dataframe\r\n",
        "pfe_df = pfizer_quote.filter(['Close'])\r\n",
        "\r\n",
        "# Get the last 60 days closing price values and convert the dataframe to an array\r\n",
        "last_60_days = pfe_df[-60:].values\r\n",
        "\r\n",
        "# Scale the data to be values between 0 and 1\r\n",
        "last_60_days_scaled = scaler.transform(last_60_days)\r\n",
        "\r\n",
        "# Create an empty list\r\n",
        "X_test = []\r\n",
        "\r\n",
        "# Append the last 60 days\r\n",
        "X_test.append(last_60_days_scaled)\r\n",
        "\r\n",
        "# Convert the X_test to a numpy array\r\n",
        "X_test = np.array(X_test)\r\n",
        "\r\n",
        "# Reshape the data\r\n",
        "X_test = np.reshape(X_test, (X_test.shape[0], X_test.shape[1], 1))\r\n",
        "\r\n",
        "# Get the predicted scaled price\r\n",
        "pred_price = model.predict(X_test)\r\n",
        "\r\n",
        "#Undo the scaling\r\n",
        "pred_price = scaler.inverse_transform(pred_price)\r\n",
        "\r\n",
        "print(pred_price)"
      ],
      "execution_count": 32,
      "outputs": [
        {
          "output_type": "stream",
          "text": [
            "[[39.525864]]\n"
          ],
          "name": "stdout"
        }
      ]
    },
    {
      "cell_type": "code",
      "metadata": {
        "colab": {
          "base_uri": "https://localhost:8080/"
        },
        "id": "iXHnD4BvG4xQ",
        "outputId": "60163205-cf0c-48c2-a7e0-c84239728088"
      },
      "source": [
        "# Get the quote\r\n",
        "pfizer_quote = web.DataReader('PFE', data_source='yahoo', start='2020-12-09',end='2020-12-09')\r\n",
        "print(pfizer_quote['Close'])"
      ],
      "execution_count": 33,
      "outputs": [
        {
          "output_type": "stream",
          "text": [
            "Date\n",
            "2020-12-09    41.849998\n",
            "Name: Close, dtype: float64\n"
          ],
          "name": "stdout"
        }
      ]
    },
    {
      "cell_type": "markdown",
      "metadata": {
        "id": "wxY3d-7EHjYZ"
      },
      "source": [
        "## Apple"
      ]
    },
    {
      "cell_type": "code",
      "metadata": {
        "colab": {
          "base_uri": "https://localhost:8080/"
        },
        "id": "W-ONSYtcHlBu",
        "outputId": "90d74108-1837-42ac-8393-4faab61692f3"
      },
      "source": [
        "# Get the quote\r\n",
        "apple_quote = web.DataReader('AAPL', data_source='yahoo', start='2010-01-01',end='2020-12-09')\r\n",
        "\r\n",
        "# Create a new dataframe\r\n",
        "apple_df = apple_quote.filter(['Close'])\r\n",
        "\r\n",
        "# Get the last 60 days closing price values and convert the dataframe to an array\r\n",
        "last_60_days = apple_df[-60:].values\r\n",
        "\r\n",
        "# Scale the data to be values between 0 and 1\r\n",
        "last_60_days_scaled = scaler.transform(last_60_days)\r\n",
        "\r\n",
        "# Create an empty list\r\n",
        "X_test = []\r\n",
        "\r\n",
        "# Append the last 60 days\r\n",
        "X_test.append(last_60_days_scaled)\r\n",
        "\r\n",
        "# Convert the X_test to a numpy array\r\n",
        "X_test = np.array(X_test)\r\n",
        "\r\n",
        "# Reshape the data\r\n",
        "X_test = np.reshape(X_test, (X_test.shape[0], X_test.shape[1], 1))\r\n",
        "\r\n",
        "# Get the predicted scaled price\r\n",
        "pred_price = model.predict(X_test)\r\n",
        "\r\n",
        "#Undo the scaling\r\n",
        "pred_price = scaler.inverse_transform(pred_price)\r\n",
        "\r\n",
        "print(pred_price)"
      ],
      "execution_count": 34,
      "outputs": [
        {
          "output_type": "stream",
          "text": [
            "[[116.15725]]\n"
          ],
          "name": "stdout"
        }
      ]
    },
    {
      "cell_type": "code",
      "metadata": {
        "colab": {
          "base_uri": "https://localhost:8080/"
        },
        "id": "AYGHZRMtH05B",
        "outputId": "a0057f1e-3696-43ed-d44a-a0b99d7ee553"
      },
      "source": [
        "# Get the quote\r\n",
        "apple_quote2 = web.DataReader('AAPL', data_source='yahoo', start='2020-12-10',end='2020-12-10')\r\n",
        "print(apple_quote2['Close'])"
      ],
      "execution_count": 36,
      "outputs": [
        {
          "output_type": "stream",
          "text": [
            "Date\n",
            "2020-12-10    123.239998\n",
            "2020-12-10    123.239998\n",
            "Name: Close, dtype: float64\n"
          ],
          "name": "stdout"
        }
      ]
    },
    {
      "cell_type": "code",
      "metadata": {
        "id": "uSxxxjnPIIt5"
      },
      "source": [
        ""
      ],
      "execution_count": null,
      "outputs": []
    }
  ]
}